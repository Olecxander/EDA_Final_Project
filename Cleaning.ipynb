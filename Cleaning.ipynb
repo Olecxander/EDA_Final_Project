{
 "cells": [
  {
   "cell_type": "code",
   "execution_count": 99,
   "id": "5bff3475-6bfa-4c35-ad80-f3a138dcbf51",
   "metadata": {
    "jupyter": {
     "source_hidden": true
    },
    "slideshow": {
     "slide_type": "skip"
    },
    "tags": []
   },
   "outputs": [],
   "source": [
    "import pandas as pd\n",
    "import numpy as np\n",
    "import matplotlib.pyplot as plt\n",
    "import seaborn as sns\n",
    "import scipy.stats as stats\n",
    "import rise"
   ]
  },
  {
   "cell_type": "markdown",
   "id": "7517e27b-5bce-4bf7-8778-7f6ddae9f2e0",
   "metadata": {
    "slideshow": {
     "slide_type": "slide"
    },
    "tags": []
   },
   "source": [
    "<div style=\"background-color: #f7f7f7; border: 1px solid #999; padding: 10px; font-size: 16px; color: #333; text-align: left;\">\n",
    "  <div style=\"display: flex; align-items: center; justify-content: center; margin-bottom: 10px;\">\n",
    "    <img src=\"PowerliftingLogo.png\" alt=\"Powerlifting Logo\" style=\"width: 300px;\"/>\n",
    "  </div>\n",
    "  <h2 style=\"font-size: 20px; margin-bottom: 10px; text-transform: uppercase; color: #555;\">USA Powerlifting Rules</h2>\n",
    "  <ul style=\"margin-top: 10px; margin-left: 0; padding-left: 20px;\">\n",
    "    <li style=\"margin-bottom: 5px;\">Lifters are segmented into competitive categories.</li>\n",
    "    <li style=\"margin-bottom: 5px;\">Categories are segmented by:</li>\n",
    "    <ul>\n",
    "      <li>Sex</li>\n",
    "      <li>Age</li>\n",
    "      <li>Weightclass</li>\n",
    "      <li>Equipment Used</li>\n",
    "    </ul>\n",
    "  </ul>\n",
    "</div>"
   ]
  },
  {
   "cell_type": "markdown",
   "id": "e9869c61-8d02-4446-880b-bb84086216db",
   "metadata": {
    "slideshow": {
     "slide_type": "slide"
    },
    "tags": []
   },
   "source": [
    "<div style=\"background-color: #f7f7f7; border: 1px solid #999; padding: 10px; font-size: 16px; color: #333; text-align: left;\">\n",
    "  <div style=\"display: flex; align-items: center; justify-content: center; margin-bottom: 10px;\">\n",
    "    <img src=\"PowerliftingLogo.png\" alt=\"Powerlifting Logo\" style=\"width: 300px;\"/>\n",
    "  </div>\n",
    "  <h2 style=\"font-size: 20px; margin-bottom: 10px; text-transform: uppercase; color: #555;\">USA Powerlifting Rules</h2>\n",
    "  <ul style=\"margin-top: 10px; margin-left: 0; padding-left: 20px;\">\n",
    "    <li style=\"margin-bottom: 5px;\">Lifters are scored on the total kg of 3 lifts.</li>\n",
    "    <ul>\n",
    "      <li>Bench Press</li>\n",
    "      <li>Squat</li>\n",
    "      <li>Deadlift</li>\n",
    "    </ul>\n",
    "  </ul>\n",
    "</div>"
   ]
  },
  {
   "cell_type": "markdown",
   "id": "c5ef67e4-b3dd-4b84-b52f-0dda615d480e",
   "metadata": {
    "slideshow": {
     "slide_type": "skip"
    },
    "tags": [
     "hide"
    ]
   },
   "source": [
    "<b>Data cleaning</b> functions.  Used the USAPL Rulebook from 2021. potential issue: data is from 2017."
   ]
  },
  {
   "cell_type": "code",
   "execution_count": 100,
   "id": "2ac086c3-379b-4dfa-8eaf-87a258f94765",
   "metadata": {
    "slideshow": {
     "slide_type": "skip"
    },
    "tags": [
     "hide"
    ]
   },
   "outputs": [],
   "source": [
    "def assign_tier(age, division):\n",
    "    if 'open' in division.lower() or '-o' in division.lower():\n",
    "        return np.nan\n",
    "    elif division.lower == 'teens':\n",
    "        return '3'\n",
    "    elif '1a' in division.lower():\n",
    "        return '1a'\n",
    "    elif '1b' in division.lower():\n",
    "        return '1b'\n",
    "    elif '2a' in division.lower():\n",
    "        return '2a'\n",
    "    elif '2b' in division.lower():\n",
    "        return '2b'\n",
    "    elif '3a' in division.lower():\n",
    "        return '3a'\n",
    "    elif '3b' in division.lower():\n",
    "        return '3b'\n",
    "    elif '4a' in division.lower():\n",
    "        return '4a'\n",
    "    elif '4b' in division.lower():\n",
    "        return '4b'\n",
    "    elif '5a' in division.lower():\n",
    "        return '5a'\n",
    "    elif '5b' in division.lower():\n",
    "        return '5b'\n",
    "    elif '6a' in division.lower():\n",
    "        return '6a'\n",
    "    elif '6b' in division.lower():\n",
    "        return '6b'\n",
    "    elif 'jr' in division.lower() or 'jnr' in division.lower() or 'junior' in division.lower():\n",
    "        return np.nan\n",
    "    elif age < 10:\n",
    "        return str(1)\n",
    "    elif age < 12:\n",
    "        return str(2)\n",
    "    elif '11' in division:\n",
    "        return str(2)\n",
    "    elif age < 14:\n",
    "        return str(3)\n",
    "    elif '13' in division:\n",
    "        return str(3)\n",
    "    elif age < 16:\n",
    "        return str(1)\n",
    "    elif '15' in division:\n",
    "        return str(1)\n",
    "    elif age < 18:\n",
    "        return str(2)\n",
    "    elif '17' in division:\n",
    "        return str(2)\n",
    "    elif age < 20:\n",
    "        return str(3)\n",
    "    elif '19' in division:\n",
    "        return str(3)\n",
    "    elif age < 25:\n",
    "        return np.nan\n",
    "    elif '24' in division:\n",
    "        return np.nan\n",
    "    elif age < 40:\n",
    "        return np.nan\n",
    "    elif age < 45:\n",
    "        return '1a'\n",
    "    elif '44' in division:\n",
    "        return '1a'\n",
    "    elif age < 50:\n",
    "        return '1b'\n",
    "    elif '49' in division or 'm1' in division.lower():\n",
    "        return '1b'\n",
    "    elif age < 55:\n",
    "        return '2a'\n",
    "    elif '54' in division:\n",
    "        return '2a'\n",
    "    elif age < 60:\n",
    "        return '2b'\n",
    "    elif '59' in division or 'm2' in division.lower():\n",
    "        return '2b'\n",
    "    elif age < 65:\n",
    "        return '3a'\n",
    "    elif '64' in division:\n",
    "        return '3a'\n",
    "    elif age < 70:\n",
    "        return '3b'\n",
    "    elif '69' in division or 'm3' in division.lower():\n",
    "        return '3b'\n",
    "    elif age < 75:\n",
    "        return '4a'\n",
    "    elif '74' in division:\n",
    "        return '4a'\n",
    "    elif age < 80:\n",
    "        return '4b'\n",
    "    elif '79' in division or 'm5' in division.lower():\n",
    "        return '4b'\n",
    "    elif age < 85:\n",
    "        return '5a'\n",
    "    elif '84' in division:\n",
    "        return '5b'\n",
    "    elif age < 90:\n",
    "        return '6b'\n",
    "    elif '89' in division or 'm6' in division.lower():\n",
    "        return '6b'\n",
    "    elif age >= 90:\n",
    "        return '6b'\n",
    "    else:\n",
    "        return np.nan"
   ]
  },
  {
   "cell_type": "code",
   "execution_count": 101,
   "id": "9b8cd0c4-8b12-485c-bf31-f66eef8075bf",
   "metadata": {
    "slideshow": {
     "slide_type": "skip"
    },
    "tags": []
   },
   "outputs": [],
   "source": [
    "def assign_level(age, division):\n",
    "    if 'open' in division.lower() or '-s' in division.lower():\n",
    "        return 'Open'\n",
    "    elif age < 14:\n",
    "        return 'Youth'\n",
    "    elif '14' in division:\n",
    "        return 'Youth'\n",
    "    elif age < 20:\n",
    "        return 'Teen'\n",
    "    elif '16' in division or 'teen' in division.lower():\n",
    "        return 'Teen'\n",
    "    elif '18' in division:\n",
    "        return 'Teen'\n",
    "    elif age < 25:\n",
    "        return 'Juniors'\n",
    "    elif 'jr' in division.lower() or 'jnr' in division.lower() or 'junior' in division.lower() or  '-j' in division.lower():\n",
    "        return 'Juniors'\n",
    "    elif age < 40:\n",
    "        return 'Open'\n",
    "    elif 'master' in division.lower():\n",
    "        return 'Masters'\n",
    "    elif age >= 40:\n",
    "        return 'Masters'\n",
    "    else:\n",
    "        return np.nan"
   ]
  },
  {
   "cell_type": "code",
   "execution_count": 102,
   "id": "d37e592d-b920-44c5-8bd7-6d265a4d5db9",
   "metadata": {
    "slideshow": {
     "slide_type": "skip"
    },
    "tags": []
   },
   "outputs": [],
   "source": [
    "def assign_level2(tier, level):\n",
    "    if 'a' in tier or 'b' in tier:\n",
    "        return 'Masters'\n",
    "    else:\n",
    "        np.nan"
   ]
  },
  {
   "cell_type": "code",
   "execution_count": 103,
   "id": "fa19fb37-c256-4395-844c-6c456c1d1d25",
   "metadata": {
    "slideshow": {
     "slide_type": "skip"
    },
    "tags": []
   },
   "outputs": [],
   "source": [
    "def assign_open_level(division):\n",
    "    if ('guest' in division.lower() or \\\n",
    "        'disabled' in division.lower() or \\\n",
    "        'novice' in division.lower() or \\\n",
    "        'special' in division.lower() or \\\n",
    "        'amateur' in division.lower() or \\\n",
    "        'handycap' in division.lower() or \\\n",
    "        'veteran' in division.lower() or \\\n",
    "        'wheel' in division.lower()):\n",
    "        return 'Special'\n",
    "    else:\n",
    "        return np.nan"
   ]
  },
  {
   "cell_type": "code",
   "execution_count": 104,
   "id": "ac87ae86-fb20-49a5-8af3-d122763f42b7",
   "metadata": {
    "slideshow": {
     "slide_type": "skip"
    },
    "tags": []
   },
   "outputs": [],
   "source": [
    "lifts_raw = pd.read_csv('openpowerlifting.csv')"
   ]
  },
  {
   "cell_type": "markdown",
   "id": "a44812f0-9e1b-4c34-a5e3-05c1a06898a0",
   "metadata": {
    "slideshow": {
     "slide_type": "slide"
    },
    "tags": []
   },
   "source": [
    "<div style=\"background-color: #f7f7f7; border: 1px solid #999; padding: 10px; font-size: 16px; color: #333; text-align: left;\">\n",
    "  <div style=\"display: flex; align-items: center; justify-content: center; margin-bottom: 10px;\">\n",
    "    <img src=\"PowerliftingLogo.png\" alt=\"Powerlifting Logo\" style=\"width: 300px;\"/>\n",
    "  </div>\n",
    "  <h2 style=\"font-size: 20px; margin-bottom: 10px; text-transform: uppercase; color: #555;\">Raw Data Exploration</h2>\n",
    "  <ul style=\"margin-top: 10px; margin-left: 0; padding-left: 20px;\">\n",
    "    <li style=\"margin-bottom: 5px;\">Exploration Topics</li>\n",
    "    <ul>\n",
    "      <li>File Info and Data Types</li>\n",
    "      <li>Examine Header and Some Rows</li>\n",
    "      <li>Null Value Check</li>\n",
    "      <li>Distinct Values in Each Column</li>\n",
    "      <li>Get a Feel for the Data With a Histogram</li>\n",
    "    </ul>\n",
    "  </ul>\n",
    "</div>"
   ]
  },
  {
   "cell_type": "markdown",
   "id": "f2ffa2fd-b4b0-4c83-8afb-b9d83f45b03c",
   "metadata": {
    "slideshow": {
     "slide_type": "slide"
    },
    "tags": []
   },
   "source": [
    "<div style=\"background-color: #f7f7f7; border: 1px solid #999; padding: 10px; font-size: 16px; color: #333; text-align: left;\">\n",
    "  <div style=\"display: flex; align-items: center; justify-content: center; margin-bottom: 10px;\">\n",
    "    <img src=\"PowerliftingLogo.png\" alt=\"Powerlifting Logo\" style=\"width: 300px;\"/>\n",
    "  </div>\n",
    "  <h2 style=\"font-size: 20px; margin-bottom: 10px; text-transform: uppercase; color: #555;\">File Info and Data Types</h2>\n",
    "</div>"
   ]
  },
  {
   "cell_type": "code",
   "execution_count": 105,
   "id": "ce216d6b-a95f-495e-8342-f67b546aa604",
   "metadata": {
    "max_height": "500px",
    "scrolled": true,
    "slideshow": {
     "slide_type": "slide"
    },
    "tags": []
   },
   "outputs": [
    {
     "name": "stdout",
     "output_type": "stream",
     "text": [
      "<class 'pandas.core.frame.DataFrame'>\n",
      "RangeIndex: 386414 entries, 0 to 386413\n",
      "Data columns (total 17 columns):\n",
      " #   Column          Non-Null Count   Dtype  \n",
      "---  ------          --------------   -----  \n",
      " 0   MeetID          386414 non-null  int64  \n",
      " 1   Name            386414 non-null  object \n",
      " 2   Sex             386414 non-null  object \n",
      " 3   Equipment       386414 non-null  object \n",
      " 4   Age             147147 non-null  float64\n",
      " 5   Division        370571 non-null  object \n",
      " 6   BodyweightKg    384012 non-null  float64\n",
      " 7   WeightClassKg   382602 non-null  object \n",
      " 8   Squat4Kg        1243 non-null    float64\n",
      " 9   BestSquatKg     298071 non-null  float64\n",
      " 10  Bench4Kg        1962 non-null    float64\n",
      " 11  BestBenchKg     356364 non-null  float64\n",
      " 12  Deadlift4Kg     2800 non-null    float64\n",
      " 13  BestDeadliftKg  317847 non-null  float64\n",
      " 14  TotalKg         363237 non-null  float64\n",
      " 15  Place           385322 non-null  object \n",
      " 16  Wilks           362194 non-null  float64\n",
      "dtypes: float64(10), int64(1), object(6)\n",
      "memory usage: 50.1+ MB\n"
     ]
    }
   ],
   "source": [
    "lifts_raw.info()"
   ]
  },
  {
   "cell_type": "markdown",
   "id": "2cb485a7-a04e-4623-ab30-c0bf83be00d1",
   "metadata": {
    "slideshow": {
     "slide_type": "slide"
    },
    "tags": []
   },
   "source": [
    "<div style=\"background-color: #f7f7f7; border: 1px solid #999; padding: 10px; font-size: 16px; color: #333; text-align: left;\">\n",
    "  <div style=\"display: flex; align-items: center; justify-content: center; margin-bottom: 10px;\">\n",
    "    <img src=\"PowerliftingLogo.png\" alt=\"Powerlifting Logo\" style=\"width: 300px;\"/>\n",
    "  </div>\n",
    "  <h2 style=\"font-size: 20px; margin-bottom: 10px; text-transform: uppercase; color: #555;\">File Info and Data Types</h2>\n",
    "  <ul style=\"margin-top: 10px; margin-left: 0; padding-left: 20px;\">\n",
    "    <li style=\"margin-bottom: 5px;\">Notes:</li>\n",
    "    <ul>\n",
    "      <li>There are 17 Columns</li>\n",
    "      <li>386,414 Rows</li>\n",
    "      <li>Weight Class Datatype is <b>Object</b></li>\n",
    "    </ul>\n",
    "  </ul>\n",
    "</div>"
   ]
  },
  {
   "cell_type": "markdown",
   "id": "551de3d0-0b54-46e2-a2f1-e0eae89710ec",
   "metadata": {
    "slideshow": {
     "slide_type": "slide"
    },
    "tags": []
   },
   "source": [
    "<div style=\"background-color: #f7f7f7; border: 1px solid #999; padding: 10px; font-size: 16px; color: #333; text-align: left;\">\n",
    "  <div style=\"display: flex; align-items: center; justify-content: center; margin-bottom: 10px;\">\n",
    "    <img src=\"PowerliftingLogo.png\" alt=\"Powerlifting Logo\" style=\"width: 300px;\"/>\n",
    "  </div>\n",
    "  <h2 style=\"font-size: 20px; margin-bottom: 10px; text-transform: uppercase; color: #555;\">Examine Header and Some Rows</h2>\n",
    "</div>"
   ]
  },
  {
   "cell_type": "code",
   "execution_count": 106,
   "id": "943a82f3-6523-4adc-8bb8-e1553e10ffe2",
   "metadata": {
    "slideshow": {
     "slide_type": "slide"
    },
    "tags": []
   },
   "outputs": [
    {
     "data": {
      "text/html": [
       "<div>\n",
       "<style scoped>\n",
       "    .dataframe tbody tr th:only-of-type {\n",
       "        vertical-align: middle;\n",
       "    }\n",
       "\n",
       "    .dataframe tbody tr th {\n",
       "        vertical-align: top;\n",
       "    }\n",
       "\n",
       "    .dataframe thead th {\n",
       "        text-align: right;\n",
       "    }\n",
       "</style>\n",
       "<table border=\"1\" class=\"dataframe\">\n",
       "  <thead>\n",
       "    <tr style=\"text-align: right;\">\n",
       "      <th></th>\n",
       "      <th>MeetID</th>\n",
       "      <th>Name</th>\n",
       "      <th>Sex</th>\n",
       "      <th>Equipment</th>\n",
       "      <th>Age</th>\n",
       "      <th>Division</th>\n",
       "      <th>BodyweightKg</th>\n",
       "      <th>WeightClassKg</th>\n",
       "      <th>Squat4Kg</th>\n",
       "      <th>BestSquatKg</th>\n",
       "      <th>Bench4Kg</th>\n",
       "      <th>BestBenchKg</th>\n",
       "      <th>Deadlift4Kg</th>\n",
       "      <th>BestDeadliftKg</th>\n",
       "      <th>TotalKg</th>\n",
       "      <th>Place</th>\n",
       "      <th>Wilks</th>\n",
       "    </tr>\n",
       "  </thead>\n",
       "  <tbody>\n",
       "    <tr>\n",
       "      <th>0</th>\n",
       "      <td>0</td>\n",
       "      <td>Angie Belk Terry</td>\n",
       "      <td>F</td>\n",
       "      <td>Wraps</td>\n",
       "      <td>47.0</td>\n",
       "      <td>Mst 45-49</td>\n",
       "      <td>59.60</td>\n",
       "      <td>60</td>\n",
       "      <td>NaN</td>\n",
       "      <td>47.63</td>\n",
       "      <td>NaN</td>\n",
       "      <td>20.41</td>\n",
       "      <td>NaN</td>\n",
       "      <td>70.31</td>\n",
       "      <td>138.35</td>\n",
       "      <td>1</td>\n",
       "      <td>155.05</td>\n",
       "    </tr>\n",
       "    <tr>\n",
       "      <th>1</th>\n",
       "      <td>0</td>\n",
       "      <td>Dawn Bogart</td>\n",
       "      <td>F</td>\n",
       "      <td>Single-ply</td>\n",
       "      <td>42.0</td>\n",
       "      <td>Mst 40-44</td>\n",
       "      <td>58.51</td>\n",
       "      <td>60</td>\n",
       "      <td>NaN</td>\n",
       "      <td>142.88</td>\n",
       "      <td>NaN</td>\n",
       "      <td>95.25</td>\n",
       "      <td>NaN</td>\n",
       "      <td>163.29</td>\n",
       "      <td>401.42</td>\n",
       "      <td>1</td>\n",
       "      <td>456.38</td>\n",
       "    </tr>\n",
       "    <tr>\n",
       "      <th>2</th>\n",
       "      <td>0</td>\n",
       "      <td>Dawn Bogart</td>\n",
       "      <td>F</td>\n",
       "      <td>Single-ply</td>\n",
       "      <td>42.0</td>\n",
       "      <td>Open Senior</td>\n",
       "      <td>58.51</td>\n",
       "      <td>60</td>\n",
       "      <td>NaN</td>\n",
       "      <td>142.88</td>\n",
       "      <td>NaN</td>\n",
       "      <td>95.25</td>\n",
       "      <td>NaN</td>\n",
       "      <td>163.29</td>\n",
       "      <td>401.42</td>\n",
       "      <td>1</td>\n",
       "      <td>456.38</td>\n",
       "    </tr>\n",
       "    <tr>\n",
       "      <th>3</th>\n",
       "      <td>0</td>\n",
       "      <td>Dawn Bogart</td>\n",
       "      <td>F</td>\n",
       "      <td>Raw</td>\n",
       "      <td>42.0</td>\n",
       "      <td>Open Senior</td>\n",
       "      <td>58.51</td>\n",
       "      <td>60</td>\n",
       "      <td>NaN</td>\n",
       "      <td>NaN</td>\n",
       "      <td>NaN</td>\n",
       "      <td>95.25</td>\n",
       "      <td>NaN</td>\n",
       "      <td>NaN</td>\n",
       "      <td>95.25</td>\n",
       "      <td>1</td>\n",
       "      <td>108.29</td>\n",
       "    </tr>\n",
       "    <tr>\n",
       "      <th>4</th>\n",
       "      <td>0</td>\n",
       "      <td>Destiny Dula</td>\n",
       "      <td>F</td>\n",
       "      <td>Raw</td>\n",
       "      <td>18.0</td>\n",
       "      <td>Teen 18-19</td>\n",
       "      <td>63.68</td>\n",
       "      <td>67.5</td>\n",
       "      <td>NaN</td>\n",
       "      <td>NaN</td>\n",
       "      <td>NaN</td>\n",
       "      <td>31.75</td>\n",
       "      <td>NaN</td>\n",
       "      <td>90.72</td>\n",
       "      <td>122.47</td>\n",
       "      <td>1</td>\n",
       "      <td>130.47</td>\n",
       "    </tr>\n",
       "  </tbody>\n",
       "</table>\n",
       "</div>"
      ],
      "text/plain": [
       "   MeetID              Name Sex   Equipment   Age     Division  BodyweightKg  \\\n",
       "0       0  Angie Belk Terry   F       Wraps  47.0    Mst 45-49         59.60   \n",
       "1       0       Dawn Bogart   F  Single-ply  42.0    Mst 40-44         58.51   \n",
       "2       0       Dawn Bogart   F  Single-ply  42.0  Open Senior         58.51   \n",
       "3       0       Dawn Bogart   F         Raw  42.0  Open Senior         58.51   \n",
       "4       0      Destiny Dula   F         Raw  18.0   Teen 18-19         63.68   \n",
       "\n",
       "  WeightClassKg  Squat4Kg  BestSquatKg  Bench4Kg  BestBenchKg  Deadlift4Kg  \\\n",
       "0            60       NaN        47.63       NaN        20.41          NaN   \n",
       "1            60       NaN       142.88       NaN        95.25          NaN   \n",
       "2            60       NaN       142.88       NaN        95.25          NaN   \n",
       "3            60       NaN          NaN       NaN        95.25          NaN   \n",
       "4          67.5       NaN          NaN       NaN        31.75          NaN   \n",
       "\n",
       "   BestDeadliftKg  TotalKg Place   Wilks  \n",
       "0           70.31   138.35     1  155.05  \n",
       "1          163.29   401.42     1  456.38  \n",
       "2          163.29   401.42     1  456.38  \n",
       "3             NaN    95.25     1  108.29  \n",
       "4           90.72   122.47     1  130.47  "
      ]
     },
     "execution_count": 106,
     "metadata": {},
     "output_type": "execute_result"
    }
   ],
   "source": [
    "lifts_raw.head()"
   ]
  },
  {
   "cell_type": "markdown",
   "id": "17842391-1e60-43a6-a2e1-c4f6eaabab73",
   "metadata": {
    "slideshow": {
     "slide_type": "slide"
    },
    "tags": []
   },
   "source": [
    "<div style=\"background-color: #f7f7f7; border: 1px solid #999; padding: 10px; font-size: 16px; color: #333; text-align: left;\">\n",
    "  <div style=\"display: flex; align-items: center; justify-content: center; margin-bottom: 10px;\">\n",
    "    <img src=\"PowerliftingLogo.png\" alt=\"Powerlifting Logo\" style=\"width: 300px;\"/>\n",
    "  </div>\n",
    "  <h2 style=\"font-size: 20px; margin-bottom: 10px; text-transform: uppercase; color: #555;\">Examine Header and Some Rows</h2>\n",
    "  <ul style=\"margin-top: 10px; margin-left: 0; padding-left: 20px;\">\n",
    "    <li style=\"margin-bottom: 5px;\">Notes:</li>\n",
    "    <ul>\n",
    "      <li>Columns with 4Kg in the name seem worthless</li>\n",
    "    </ul>\n",
    "  </ul>\n",
    "</div>"
   ]
  },
  {
   "cell_type": "markdown",
   "id": "80f40d5c-3860-4537-81b4-059df16c6ba0",
   "metadata": {
    "slideshow": {
     "slide_type": "slide"
    },
    "tags": []
   },
   "source": [
    "<div style=\"background-color: #f7f7f7; border: 1px solid #999; padding: 10px; font-size: 16px; color: #333; text-align: left;\">\n",
    "  <div style=\"display: flex; align-items: center; justify-content: center; margin-bottom: 10px;\">\n",
    "    <img src=\"PowerliftingLogo.png\" alt=\"Powerlifting Logo\" style=\"width: 300px;\"/>\n",
    "  </div>\n",
    "  <h2 style=\"font-size: 20px; margin-bottom: 10px; text-transform: uppercase; color: #555;\">Null Value Check</h2>\n",
    "</div>"
   ]
  },
  {
   "cell_type": "code",
   "execution_count": 107,
   "id": "61518869-1d72-4712-9c6b-fb9e7f1a54be",
   "metadata": {
    "slideshow": {
     "slide_type": "slide"
    },
    "tags": [
     "hide"
    ]
   },
   "outputs": [
    {
     "name": "stdout",
     "output_type": "stream",
     "text": [
      "MeetID                 0\n",
      "Name                   0\n",
      "Sex                    0\n",
      "Equipment              0\n",
      "Age               239267\n",
      "Division           15843\n",
      "BodyweightKg        2402\n",
      "WeightClassKg       3812\n",
      "Squat4Kg          385171\n",
      "BestSquatKg        88343\n",
      "Bench4Kg          384452\n",
      "BestBenchKg        30050\n",
      "Deadlift4Kg       383614\n",
      "BestDeadliftKg     68567\n",
      "TotalKg            23177\n",
      "Place               1092\n",
      "Wilks              24220\n",
      "dtype: int64\n"
     ]
    }
   ],
   "source": [
    "print(lifts_raw.isnull().sum())"
   ]
  },
  {
   "cell_type": "markdown",
   "id": "d404b6d4-c653-4578-bc2c-dbb477c87339",
   "metadata": {
    "slideshow": {
     "slide_type": "slide"
    },
    "tags": []
   },
   "source": [
    "<div style=\"background-color: #f7f7f7; border: 1px solid #999; padding: 10px; font-size: 16px; color: #333; text-align: left;\">\n",
    "  <div style=\"display: flex; align-items: center; justify-content: center; margin-bottom: 10px;\">\n",
    "    <img src=\"PowerliftingLogo.png\" alt=\"Powerlifting Logo\" style=\"width: 300px;\"/>\n",
    "  </div>\n",
    "  <h2 style=\"font-size: 20px; margin-bottom: 10px; text-transform: uppercase; color: #555;\">Null Value Check</h2>\n",
    "  <ul style=\"margin-top: 10px; margin-left: 0; padding-left: 20px;\">\n",
    "    <li style=\"margin-bottom: 5px;\">Notes:</li>\n",
    "    <ul>\n",
    "      <li>Confirmed that columns ending in 4Kg are mostly null</li>\n",
    "      <li>There are also nulls in some of the Best Lift Categories</li>\n",
    "    </ul>\n",
    "  </ul>\n",
    "</div>"
   ]
  },
  {
   "cell_type": "markdown",
   "id": "d84cbec0-633b-43c4-9639-3ccf453efba9",
   "metadata": {
    "slideshow": {
     "slide_type": "skip"
    },
    "tags": []
   },
   "source": [
    "I should have checked the amount of null in age before i attempted to calculate division based on age.  There are 15k plus null divisions."
   ]
  },
  {
   "cell_type": "markdown",
   "id": "131c5d5c-5b0a-4e2c-835f-9eb6f6c49894",
   "metadata": {
    "slideshow": {
     "slide_type": "slide"
    },
    "tags": []
   },
   "source": [
    "<div style=\"background-color: #f7f7f7; border: 1px solid #999; padding: 10px; font-size: 16px; color: #333; text-align: left;\">\n",
    "  <div style=\"display: flex; align-items: center; justify-content: center; margin-bottom: 10px;\">\n",
    "    <img src=\"PowerliftingLogo.png\" alt=\"Powerlifting Logo\" style=\"width: 300px;\"/>\n",
    "  </div>\n",
    "  <h2 style=\"font-size: 20px; margin-bottom: 10px; text-transform: uppercase; color: #555;\">Distinct Values in Each Column</h2>\n",
    "</div>"
   ]
  },
  {
   "cell_type": "code",
   "execution_count": 108,
   "id": "91bcc4fd-7efd-418d-bad4-474675cd5357",
   "metadata": {
    "slideshow": {
     "slide_type": "slide"
    },
    "tags": []
   },
   "outputs": [
    {
     "name": "stdout",
     "output_type": "stream",
     "text": [
      "MeetID              8482\n",
      "Name              136687\n",
      "Sex                    2\n",
      "Equipment              5\n",
      "Age                  167\n",
      "Division            4246\n",
      "BodyweightKg        9110\n",
      "WeightClassKg         51\n",
      "Squat4Kg             438\n",
      "BestSquatKg         1507\n",
      "Bench4Kg             526\n",
      "BestBenchKg         1470\n",
      "Deadlift4Kg          573\n",
      "BestDeadliftKg      1385\n",
      "TotalKg             4340\n",
      "Place                 81\n",
      "Wilks              64827\n",
      "dtype: int64\n"
     ]
    }
   ],
   "source": [
    "print(lifts_raw.nunique())"
   ]
  },
  {
   "cell_type": "markdown",
   "id": "488996c8-abbc-4a13-b3d6-bf7ae0ae60d6",
   "metadata": {
    "slideshow": {
     "slide_type": "slide"
    },
    "tags": []
   },
   "source": [
    "<div style=\"background-color: #f7f7f7; border: 1px solid #999; padding: 10px; font-size: 16px; color: #333; text-align: left;\">\n",
    "  <div style=\"display: flex; align-items: center; justify-content: center; margin-bottom: 10px;\">\n",
    "    <img src=\"PowerliftingLogo.png\" alt=\"Powerlifting Logo\" style=\"width: 300px;\"/>\n",
    "  </div>\n",
    "  <h2 style=\"font-size: 20px; margin-bottom: 10px; text-transform: uppercase; color: #555;\">Distinct Values in Each Column</h2>\n",
    "  <ul style=\"margin-top: 10px; margin-left: 0; padding-left: 20px;\">\n",
    "    <li style=\"margin-bottom: 5px;\">Notes:</li>\n",
    "    <ul>\n",
    "      <li>There are 4246 unique divisions</li>\n",
    "      <li>Must standarize in order to analyze</li>\n",
    "    </ul>\n",
    "  </ul>\n",
    "</div>"
   ]
  },
  {
   "cell_type": "markdown",
   "id": "3a1857f8-1a96-4f5f-8570-492200eee543",
   "metadata": {
    "slideshow": {
     "slide_type": "slide"
    },
    "tags": []
   },
   "source": [
    "<div style=\"background-color: #f7f7f7; border: 1px solid #999; padding: 10px; font-size: 16px; color: #333; text-align: left;\">\n",
    "  <div style=\"display: flex; align-items: center; justify-content: center; margin-bottom: 10px;\">\n",
    "    <img src=\"PowerliftingLogo.png\" alt=\"Powerlifting Logo\" style=\"width: 300px;\"/>\n",
    "  </div>\n",
    "  <h2 style=\"font-size: 20px; margin-bottom: 10px; text-transform: uppercase; color: #555;\">Get a Feel for the Data With a Histogram</h2>\n",
    "</div>"
   ]
  },
  {
   "cell_type": "code",
   "execution_count": 109,
   "id": "94f214f5-f9ce-4612-b1b6-69942f5def25",
   "metadata": {
    "slideshow": {
     "slide_type": "slide"
    },
    "tags": []
   },
   "outputs": [
    {
     "data": {
      "image/png": "[encoded data removed]",
      "text/plain": [
       "<Figure size 640x480 with 1 Axes>"
      ]
     },
     "metadata": {},
     "output_type": "display_data"
    }
   ],
   "source": [
    "sns.histplot(data=lifts_raw, x='TotalKg')\n",
    "plt.xlim(left=0)\n",
    "plt.show()"
   ]
  },
  {
   "cell_type": "markdown",
   "id": "f3c7b514-4345-4f37-924d-ce3030c1b860",
   "metadata": {
    "slideshow": {
     "slide_type": "slide"
    },
    "tags": []
   },
   "source": [
    "<div style=\"background-color: #f7f7f7; border: 1px solid #999; padding: 10px; font-size: 16px; color: #333; text-align: left;\">\n",
    "  <div style=\"display: flex; align-items: center; justify-content: center; margin-bottom: 10px;\">\n",
    "    <img src=\"PowerliftingLogo.png\" alt=\"Powerlifting Logo\" style=\"width: 300px;\"/>\n",
    "  </div>\n",
    "  <h2 style=\"font-size: 20px; margin-bottom: 10px; text-transform: uppercase; color: #555;\">Get a Feel for the Data With a Histogram</h2>\n",
    "  <ul style=\"margin-top: 10px; margin-left: 0; padding-left: 20px;\">\n",
    "    <li style=\"margin-bottom: 5px;\">Notes:</li>\n",
    "    <ul>\n",
    "      <li>Pretty normal but slightly bi-modal</li>\n",
    "      <li>Check to see if mode is different by Sex</li>\n",
    "      <li>Check to see if mode is different by Division</li>\n",
    "    </ul>\n",
    "  </ul>\n",
    "</div>"
   ]
  },
  {
   "cell_type": "code",
   "execution_count": 110,
   "id": "93003bc3-930a-4b25-938b-aea6aec5d210",
   "metadata": {
    "slideshow": {
     "slide_type": "slide"
    },
    "tags": []
   },
   "outputs": [
    {
     "data": {
      "image/png": "[encoded data removed]",
      "text/plain": [
       "<Figure size 640x480 with 1 Axes>"
      ]
     },
     "metadata": {},
     "output_type": "display_data"
    }
   ],
   "source": [
    "sns.histplot(data=lifts_raw, x='TotalKg', hue='Sex')\n",
    "plt.xlim(left=0)\n",
    "plt.show()"
   ]
  },
  {
   "cell_type": "code",
   "execution_count": 111,
   "id": "5e45705d-6e91-4c02-a9ea-bd8fe5cb2e65",
   "metadata": {
    "jupyter": {
     "source_hidden": true
    },
    "slideshow": {
     "slide_type": "skip"
    },
    "tags": []
   },
   "outputs": [],
   "source": [
    "lifts = lifts_raw.copy()\n",
    "lifts['Division'] = lifts['Division'].fillna('').astype(str)\n",
    "del lifts['Squat4Kg']\n",
    "del lifts['Bench4Kg']\n",
    "del lifts['Deadlift4Kg']"
   ]
  },
  {
   "cell_type": "markdown",
   "id": "0e075a2b-1e54-4fce-8be1-c51558b88fc4",
   "metadata": {
    "slideshow": {
     "slide_type": "slide"
    },
    "tags": []
   },
   "source": [
    "<div style=\"background-color: #f7f7f7; border: 1px solid #999; padding: 10px; font-size: 16px; color: #333; text-align: left;\">\n",
    "  <div style=\"display: flex; align-items: center; justify-content: center; margin-bottom: 10px;\">\n",
    "    <img src=\"PowerliftingLogo.png\" alt=\"Powerlifting Logo\" style=\"width: 300px;\"/>\n",
    "  </div>\n",
    "  <h2 style=\"font-size: 20px; margin-bottom: 10px; text-transform: uppercase; color: #555;\">Get a Feel for the Data With a Histogram</h2>\n",
    "  <ul style=\"margin-top: 10px; margin-left: 0; padding-left: 20px;\">\n",
    "    <li style=\"margin-bottom: 5px;\">Notes:</li>\n",
    "    <ul>\n",
    "      <li>Males and Females are both bi-modal</li>\n",
    "      <li>Bi-modality is more pronounced <b>within</b> groups</li>\n",
    "      <li>Nulls in one or more lifts must be the culprit</li>\n",
    "    </ul>\n",
    "  </ul>\n",
    "</div>"
   ]
  },
  {
   "cell_type": "code",
   "execution_count": 112,
   "id": "29dc70c2-46d8-4c0b-a31b-b494527573cc",
   "metadata": {
    "slideshow": {
     "slide_type": "skip"
    },
    "tags": []
   },
   "outputs": [],
   "source": [
    "lifts.loc[lifts['WeightClassKg'] == '90+', 'WeightClassKg'] = 90\n",
    "lifts.loc[lifts['WeightClassKg'] == '100+', 'WeightClassKg'] = 100\n",
    "lifts.loc[lifts['WeightClassKg'] == '110+', 'WeightClassKg'] = 110\n",
    "lifts.loc[lifts['WeightClassKg'] == '83+', 'WeightClassKg'] = 85\n",
    "lifts.loc[lifts['WeightClassKg'] == '120+', 'WeightClassKg'] = 120\n",
    "lifts.loc[lifts['WeightClassKg'] == '140+', 'WeightClassKg'] = 140\n",
    "lifts.loc[lifts['WeightClassKg'] == '125+', 'WeightClassKg'] = 125\n",
    "lifts.loc[lifts['WeightClassKg'] == '145+', 'WeightClassKg'] = 145\n",
    "lifts.loc[lifts['WeightClassKg'] == '84+', 'WeightClassKg'] = 85\n",
    "lifts.loc[lifts['WeightClassKg'] == '70+', 'WeightClassKg'] = 70\n",
    "lifts.loc[lifts['WeightClassKg'] == '75+', 'WeightClassKg'] = 75\n",
    "lifts.loc[lifts['WeightClassKg'] == '67.5+', 'WeightClassKg'] = 70\n",
    "lifts.loc[lifts['WeightClassKg'] == '60+', 'WeightClassKg'] = 65\n"
   ]
  },
  {
   "cell_type": "code",
   "execution_count": 113,
   "id": "ea0aa5ad-19f8-496e-864f-206a331eb81c",
   "metadata": {
    "slideshow": {
     "slide_type": "skip"
    },
    "tags": []
   },
   "outputs": [],
   "source": [
    "lifts['Level'] = lifts.apply(lambda row: assign_level(row['Age'], row['Division']), axis=1)"
   ]
  },
  {
   "cell_type": "code",
   "execution_count": 114,
   "id": "b370c307-8982-41c7-9355-88212ac12dcd",
   "metadata": {
    "slideshow": {
     "slide_type": "skip"
    },
    "tags": []
   },
   "outputs": [],
   "source": [
    "lifts['Tier'] = lifts.apply(lambda row: assign_tier(row['Age'], row['Division']), axis=1)"
   ]
  },
  {
   "cell_type": "code",
   "execution_count": 115,
   "id": "a2b26a34-c018-434e-a32b-90cf207f71aa",
   "metadata": {
    "slideshow": {
     "slide_type": "skip"
    },
    "tags": []
   },
   "outputs": [],
   "source": [
    "lifts['Tier'] = lifts['Tier'].fillna('').astype(str)"
   ]
  },
  {
   "cell_type": "code",
   "execution_count": 116,
   "id": "c819d227-2db3-48be-9efb-b6c0e07907fd",
   "metadata": {
    "slideshow": {
     "slide_type": "skip"
    },
    "tags": []
   },
   "outputs": [],
   "source": [
    "lifts['Level2'] = lifts.apply(lambda row: assign_level2(row['Tier'], row['Level']), axis=1)"
   ]
  },
  {
   "cell_type": "code",
   "execution_count": 117,
   "id": "4254610d-0016-498c-92d3-90507c9b5c69",
   "metadata": {
    "slideshow": {
     "slide_type": "skip"
    },
    "tags": []
   },
   "outputs": [],
   "source": [
    "lifts['OpenLevel'] = lifts['Division'].apply(assign_open_level)"
   ]
  },
  {
   "cell_type": "code",
   "execution_count": 118,
   "id": "8f91ac29-fdde-41ba-8f90-92537baa4ed0",
   "metadata": {
    "slideshow": {
     "slide_type": "skip"
    },
    "tags": []
   },
   "outputs": [],
   "source": [
    "lifts['OpenLevel'] = lifts['OpenLevel'].fillna(lifts['Level'])"
   ]
  },
  {
   "cell_type": "code",
   "execution_count": 119,
   "id": "d19ecc9c-523c-4865-9fcc-d98dfe2edd9a",
   "metadata": {
    "slideshow": {
     "slide_type": "skip"
    },
    "tags": []
   },
   "outputs": [],
   "source": [
    "lifts['OpenLevel'] = lifts['OpenLevel'].fillna(lifts['Level2'])"
   ]
  },
  {
   "cell_type": "code",
   "execution_count": 120,
   "id": "0a776482-76ee-4ac7-9dec-ec83fd6764b3",
   "metadata": {
    "slideshow": {
     "slide_type": "skip"
    },
    "tags": []
   },
   "outputs": [],
   "source": [
    "lifts['Level'] = lifts['OpenLevel']\n",
    "del lifts['OpenLevel']"
   ]
  },
  {
   "cell_type": "code",
   "execution_count": 121,
   "id": "4f18b047-c6ef-4950-987a-252aab39d3f8",
   "metadata": {
    "slideshow": {
     "slide_type": "skip"
    },
    "tags": []
   },
   "outputs": [],
   "source": [
    "lifts['Division2'] = lifts['Division']\n",
    "lifts['Division'] = lifts['Level'] + ' ' + lifts['Tier'].fillna(str(1))"
   ]
  },
  {
   "cell_type": "code",
   "execution_count": 122,
   "id": "3ce5cec8-f553-4f12-b8c9-921321836723",
   "metadata": {
    "slideshow": {
     "slide_type": "skip"
    },
    "tags": []
   },
   "outputs": [],
   "source": [
    "lifts['WeightClassKg'] = lifts['WeightClassKg'].astype(float)  \n",
    "lifts['WeightClassKg'] = (lifts['WeightClassKg'] / 5).round() * 5 "
   ]
  },
  {
   "cell_type": "code",
   "execution_count": 123,
   "id": "f6ad5a31-0cc8-4708-8b8d-f8344f7d8b26",
   "metadata": {
    "slideshow": {
     "slide_type": "skip"
    },
    "tags": []
   },
   "outputs": [],
   "source": [
    "lifts.to_csv('lifts_data.csv', index=False)"
   ]
  },
  {
   "cell_type": "code",
   "execution_count": 124,
   "id": "222d8c97-19eb-4e78-bf64-b52fcc83f2bb",
   "metadata": {
    "slideshow": {
     "slide_type": "skip"
    },
    "tags": []
   },
   "outputs": [
    {
     "name": "stdout",
     "output_type": "stream",
     "text": [
      "<class 'pandas.core.frame.DataFrame'>\n",
      "RangeIndex: 386414 entries, 0 to 386413\n",
      "Data columns (total 18 columns):\n",
      " #   Column          Non-Null Count   Dtype  \n",
      "---  ------          --------------   -----  \n",
      " 0   MeetID          386414 non-null  int64  \n",
      " 1   Name            386414 non-null  object \n",
      " 2   Sex             386414 non-null  object \n",
      " 3   Equipment       386414 non-null  object \n",
      " 4   Age             147147 non-null  float64\n",
      " 5   Division        277065 non-null  object \n",
      " 6   BodyweightKg    384012 non-null  float64\n",
      " 7   WeightClassKg   382602 non-null  float64\n",
      " 8   BestSquatKg     298071 non-null  float64\n",
      " 9   BestBenchKg     356364 non-null  float64\n",
      " 10  BestDeadliftKg  317847 non-null  float64\n",
      " 11  TotalKg         363237 non-null  float64\n",
      " 12  Place           385322 non-null  object \n",
      " 13  Wilks           362194 non-null  float64\n",
      " 14  Level           277065 non-null  object \n",
      " 15  Tier            386414 non-null  object \n",
      " 16  Level2          54874 non-null   object \n",
      " 17  Division2       386414 non-null  object \n",
      "dtypes: float64(8), int64(1), object(9)\n",
      "memory usage: 53.1+ MB\n",
      "None\n"
     ]
    }
   ],
   "source": [
    "print(lifts.info())"
   ]
  },
  {
   "cell_type": "markdown",
   "id": "e89b0fa7-5d70-49ff-83f0-9e421933696b",
   "metadata": {
    "slideshow": {
     "slide_type": "skip"
    },
    "tags": []
   },
   "source": [
    "there are 386,414 total observations in the file.  some of the bestlift columns are missing data."
   ]
  },
  {
   "cell_type": "code",
   "execution_count": 125,
   "id": "aafea359-841a-41f5-9f1f-96bfa97660cf",
   "metadata": {
    "slideshow": {
     "slide_type": "skip"
    },
    "tags": []
   },
   "outputs": [
    {
     "data": {
      "image/png": "[encoded data removed]",
      "text/plain": [
       "<Figure size 640x480 with 1 Axes>"
      ]
     },
     "metadata": {},
     "output_type": "display_data"
    }
   ],
   "source": [
    "sns.histplot(data=lifts, x='TotalKg', hue='Sex')\n",
    "plt.xlim(left=0)\n",
    "plt.show()"
   ]
  },
  {
   "cell_type": "markdown",
   "id": "398aded5-23b3-4637-b236-a4029311a42b",
   "metadata": {
    "slideshow": {
     "slide_type": "slide"
    },
    "tags": []
   },
   "source": [
    "<div style=\"background-color: #f7f7f7; border: 1px solid #999; padding: 10px; font-size: 16px; color: #333; text-align: left;\">\n",
    "  <div style=\"display: flex; align-items: center; justify-content: center; margin-bottom: 10px;\">\n",
    "    <img src=\"PowerliftingLogo.png\" alt=\"Powerlifting Logo\" style=\"width: 300px;\"/>\n",
    "  </div>\n",
    "  <h2 style=\"font-size: 20px; margin-bottom: 10px; text-transform: uppercase; color: #555;\">Data Cleanup</h2>\n",
    "  <ul style=\"margin-top: 10px; margin-left: 0; padding-left: 20px;\">\n",
    "    <li style=\"margin-bottom: 5px;\">High Level Efforts</li>\n",
    "    <ul>\n",
    "      <li>Clean and Convert Weight Class to Int</li>\n",
    "      <li>Round Obscure Weight Class Values Into 5Kg Increments</li>       \n",
    "      <li>Standarize Division Names</li>\n",
    "      <li>Drop Worthless Columns</li>\n",
    "      <li>Remove Disqualified Competitors and Incomplete Lifts</li>\n",
    "    </ul>\n",
    "  </ul>\n",
    "</div>"
   ]
  },
  {
   "cell_type": "markdown",
   "id": "56da9e14-533f-4869-8a23-c2d4fa5372ff",
   "metadata": {
    "slideshow": {
     "slide_type": "skip"
    },
    "tags": []
   },
   "source": [
    "There are negative values in some of the best lift columns"
   ]
  },
  {
   "cell_type": "markdown",
   "id": "1c994ad6-f660-4765-85f7-f1eacae67b1f",
   "metadata": {
    "slideshow": {
     "slide_type": "skip"
    },
    "tags": []
   },
   "source": [
    "my cleaning logic managed to assign all but 408 divisions.  "
   ]
  },
  {
   "cell_type": "code",
   "execution_count": 126,
   "id": "5e77553c-a98e-454d-8940-20b987005315",
   "metadata": {
    "slideshow": {
     "slide_type": "slide"
    },
    "tags": []
   },
   "outputs": [
    {
     "data": {
      "text/plain": [
       "<seaborn.axisgrid.FacetGrid at 0x1be96d25250>"
      ]
     },
     "execution_count": 126,
     "metadata": {},
     "output_type": "execute_result"
    },
    {
     "data": {
      "image/png": "[encoded data removed]",
      "text/plain": [
       "<Figure size 704.625x300 with 2 Axes>"
      ]
     },
     "metadata": {},
     "output_type": "display_data"
    }
   ],
   "source": [
    "g = sns.FacetGrid(lifts, col='Sex', hue='Level')\n",
    "g.map(sns.histplot, 'TotalKg')\n",
    "g.set(xlim=(0, None))\n",
    "g.add_legend()"
   ]
  },
  {
   "cell_type": "code",
   "execution_count": 127,
   "id": "ef349687-8e65-4376-aebd-efd9bd96b4df",
   "metadata": {
    "jupyter": {
     "source_hidden": true
    },
    "slideshow": {
     "slide_type": "skip"
    },
    "tags": []
   },
   "outputs": [
    {
     "name": "stdout",
     "output_type": "stream",
     "text": [
      "MeetID                 0\n",
      "Name                   0\n",
      "Sex                    0\n",
      "Equipment              0\n",
      "Age               239267\n",
      "Division          109349\n",
      "BodyweightKg        2402\n",
      "WeightClassKg       3812\n",
      "BestSquatKg        88343\n",
      "BestBenchKg        30050\n",
      "BestDeadliftKg     68567\n",
      "TotalKg            23177\n",
      "Place               1092\n",
      "Wilks              24220\n",
      "Level             109349\n",
      "Tier                   0\n",
      "Level2            331540\n",
      "Division2              0\n",
      "dtype: int64\n"
     ]
    }
   ],
   "source": [
    "print(lifts.isnull().sum())"
   ]
  },
  {
   "cell_type": "markdown",
   "id": "251e7ce3-732f-4603-845a-1d03f13a452e",
   "metadata": {
    "slideshow": {
     "slide_type": "skip"
    },
    "tags": []
   },
   "source": [
    "There are 109k divisions left null.  minus the 15k that started as null, and we find we were unable to calculate a category for ~95k.  seems high but some are nonsense.  i will move forward with this."
   ]
  },
  {
   "cell_type": "code",
   "execution_count": 128,
   "id": "ad090c7c-6351-42a9-85e8-0815dbfc6608",
   "metadata": {
    "jupyter": {
     "source_hidden": true
    },
    "slideshow": {
     "slide_type": "skip"
    },
    "tags": []
   },
   "outputs": [
    {
     "name": "stdout",
     "output_type": "stream",
     "text": [
      "MeetID              8482\n",
      "Name              136687\n",
      "Sex                    2\n",
      "Equipment              5\n",
      "Age                  167\n",
      "Division              63\n",
      "BodyweightKg        9110\n",
      "WeightClassKg         22\n",
      "BestSquatKg         1507\n",
      "BestBenchKg         1470\n",
      "BestDeadliftKg      1385\n",
      "TotalKg             4340\n",
      "Place                 81\n",
      "Wilks              64827\n",
      "Level                  6\n",
      "Tier                  15\n",
      "Level2                 1\n",
      "Division2           4247\n",
      "dtype: int64\n"
     ]
    }
   ],
   "source": [
    "print(lifts.nunique())"
   ]
  },
  {
   "cell_type": "markdown",
   "id": "aa641989-141f-4421-b2ac-7a8033cffeb2",
   "metadata": {
    "slideshow": {
     "slide_type": "skip"
    },
    "tags": []
   },
   "source": [
    "I now have 63 unique divisions.  much better. too many.  i think my logic is creating tiers in open or junior divs."
   ]
  },
  {
   "cell_type": "code",
   "execution_count": 129,
   "id": "cd73da00-940e-4acd-8197-ce0aba49d5ee",
   "metadata": {
    "jupyter": {
     "source_hidden": true
    },
    "slideshow": {
     "slide_type": "skip"
    },
    "tags": []
   },
   "outputs": [
    {
     "name": "stdout",
     "output_type": "stream",
     "text": [
      "545\n"
     ]
    }
   ],
   "source": [
    "print(lifts.duplicated().sum())"
   ]
  },
  {
   "cell_type": "markdown",
   "id": "4ef8911b-cfd6-4c71-8477-3c99d4ab4c42",
   "metadata": {
    "slideshow": {
     "slide_type": "skip"
    },
    "tags": []
   },
   "source": [
    "I would think duplicates should not happen.  I could clean this up but the duplicaiton rate is  0.01%.  NBD"
   ]
  },
  {
   "cell_type": "markdown",
   "id": "eb774436-b6ae-49f9-bd89-239dc8e46e45",
   "metadata": {
    "slideshow": {
     "slide_type": "skip"
    },
    "tags": []
   },
   "source": [
    "At this point, i will call my initial iteration of the dataset clean. (note from future derick, you are not done)"
   ]
  },
  {
   "cell_type": "code",
   "execution_count": 130,
   "id": "051c8489-94b8-4432-ad07-58510c5b07e8",
   "metadata": {
    "jupyter": {
     "source_hidden": true
    },
    "slideshow": {
     "slide_type": "skip"
    },
    "tags": []
   },
   "outputs": [
    {
     "data": {
      "image/png": "[encoded data removed]",
      "text/plain": [
       "<Figure size 640x480 with 1 Axes>"
      ]
     },
     "metadata": {},
     "output_type": "display_data"
    },
    {
     "data": {
      "image/png": "[encoded data removed]",
      "text/plain": [
       "<Figure size 640x480 with 1 Axes>"
      ]
     },
     "metadata": {},
     "output_type": "display_data"
    },
    {
     "data": {
      "image/png": "[encoded data removed]",
      "text/plain": [
       "<Figure size 640x480 with 1 Axes>"
      ]
     },
     "metadata": {},
     "output_type": "display_data"
    },
    {
     "data": {
      "image/png": "[encoded data removed]",
      "text/plain": [
       "<Figure size 640x480 with 1 Axes>"
      ]
     },
     "metadata": {},
     "output_type": "display_data"
    },
    {
     "data": {
      "image/png": "[encoded data removed]",
      "text/plain": [
       "<Figure size 640x480 with 1 Axes>"
      ]
     },
     "metadata": {},
     "output_type": "display_data"
    },
    {
     "data": {
      "image/png": "[encoded data removed]",
      "text/plain": [
       "<Figure size 640x480 with 1 Axes>"
      ]
     },
     "metadata": {},
     "output_type": "display_data"
    }
   ],
   "source": [
    "sns.histplot(lifts['Age'])\n",
    "plt.xlim(left=0)\n",
    "plt.show()\n",
    "\n",
    "sns.histplot(data=lifts, x='BodyweightKg', hue='Sex')\n",
    "plt.xlim(left=0)\n",
    "plt.show()\n",
    "\n",
    "sns.histplot(data=lifts, x='BestSquatKg', hue='Sex')\n",
    "plt.xlim(left=0)\n",
    "plt.show()\n",
    "\n",
    "sns.histplot(data=lifts, x='BestBenchKg', hue='Sex')\n",
    "plt.xlim(left=0)\n",
    "plt.show()\n",
    "\n",
    "sns.histplot(data=lifts, x='BestDeadliftKg', hue='Sex')\n",
    "plt.xlim(left=0)\n",
    "plt.show()\n",
    "\n",
    "sns.histplot(data=lifts, x='TotalKg', hue='Sex')\n",
    "plt.xlim(left=0)\n",
    "plt.show()"
   ]
  },
  {
   "cell_type": "markdown",
   "id": "b36f3932-4a57-4e6d-bcc4-5210cabe5667",
   "metadata": {
    "slideshow": {
     "slide_type": "skip"
    },
    "tags": []
   },
   "source": [
    "the totalkg hist shows bi-modality in both males and females.  WHY???"
   ]
  },
  {
   "cell_type": "code",
   "execution_count": 131,
   "id": "28ba3b0f-f744-422c-a93f-fae003797865",
   "metadata": {
    "jupyter": {
     "source_hidden": true
    },
    "slideshow": {
     "slide_type": "skip"
    },
    "tags": []
   },
   "outputs": [
    {
     "data": {
      "text/plain": [
       "<seaborn.axisgrid.FacetGrid at 0x1be8349fee0>"
      ]
     },
     "execution_count": 131,
     "metadata": {},
     "output_type": "execute_result"
    },
    {
     "data": {
      "image/png": "[encoded data removed]",
      "text/plain": [
       "<Figure size 704.625x300 with 2 Axes>"
      ]
     },
     "metadata": {},
     "output_type": "display_data"
    }
   ],
   "source": [
    "g = sns.FacetGrid(lifts, col='Sex', hue='Level')\n",
    "g.map(sns.histplot, 'TotalKg')\n",
    "g.set(xlim=(0, None))\n",
    "g.add_legend()"
   ]
  },
  {
   "cell_type": "markdown",
   "id": "9ff20d39-9cd7-42f9-a1b8-e1865f3e3bb3",
   "metadata": {
    "slideshow": {
     "slide_type": "skip"
    },
    "tags": []
   },
   "source": [
    "Bimodality does not appear to be due to division."
   ]
  },
  {
   "cell_type": "code",
   "execution_count": 132,
   "id": "7f1fa2d9-630c-4b8c-a2a5-3904d459a6f1",
   "metadata": {
    "jupyter": {
     "source_hidden": true
    },
    "slideshow": {
     "slide_type": "skip"
    },
    "tags": []
   },
   "outputs": [
    {
     "name": "stdout",
     "output_type": "stream",
     "text": [
      "              count        mean         std    min      25%     50%      75%  \\\n",
      "Division                                                                       \n",
      "Juniors     50084.0  448.019212  187.284795   20.0  303.900  470.00  582.870   \n",
      "Juniors 1b      1.0  257.500000         NaN  257.5  257.500  257.50  257.500   \n",
      "Juniors 3       6.0  469.166667  240.793826  260.0  335.000  371.25  525.625   \n",
      "Juniors 6b      1.0  398.500000         NaN  398.5  398.500  398.50  398.500   \n",
      "Masters     10429.0  383.837247  206.547389   25.0  204.120  355.00  555.000   \n",
      "...             ...         ...         ...    ...      ...     ...      ...   \n",
      "Youth 1b        1.0  120.000000         NaN  120.0  120.000  120.00  120.000   \n",
      "Youth 2       183.0  144.195738   78.676019   17.0   96.250  142.50  183.750   \n",
      "Youth 2b        2.0  268.750000  153.795725  160.0  214.375  268.75  323.125   \n",
      "Youth 3       478.0  215.343787  113.362225   27.5  140.500  205.00  281.875   \n",
      "Youth 3a        1.0  172.500000         NaN  172.5  172.500  172.50  172.500   \n",
      "\n",
      "                max  \n",
      "Division             \n",
      "Juniors     1230.00  \n",
      "Juniors 1b   257.50  \n",
      "Juniors 3    912.50  \n",
      "Juniors 6b   398.50  \n",
      "Masters     1120.37  \n",
      "...             ...  \n",
      "Youth 1b     120.00  \n",
      "Youth 2      635.00  \n",
      "Youth 2b     377.50  \n",
      "Youth 3      660.00  \n",
      "Youth 3a     172.50  \n",
      "\n",
      "[63 rows x 8 columns]\n",
      "            count        mean         std    min     25%     50%     75%  \\\n",
      "Level                                                                      \n",
      "Juniors   50092.0  448.016953  187.287499  20.00  303.90  470.00  582.87   \n",
      "Masters   58964.0  355.041200  203.779500  20.00  181.44  310.00  520.00   \n",
      "Open     107937.0  453.278799  219.818078  20.50  270.00  453.59  620.00   \n",
      "Special   21023.0  404.767079  188.303057  17.00  247.21  410.00  555.65   \n",
      "Teen      20067.0  388.457987  165.872748  19.05  265.00  390.00  512.50   \n",
      "Youth      6280.0  274.128828  170.333337  17.00  115.00  255.00  402.50   \n",
      "\n",
      "             max  \n",
      "Level             \n",
      "Juniors  1230.00  \n",
      "Masters  1155.00  \n",
      "Open     1365.31  \n",
      "Special  1054.60  \n",
      "Teen     1055.00  \n",
      "Youth     901.00  \n",
      "           count        mean        std     min     25%     50%     75%  \\\n",
      "Level                                                                     \n",
      "Juniors  44030.0  177.612763  64.102614 -370.00  132.50  180.00  217.50   \n",
      "Masters  36521.0  167.734849  72.230709 -455.00  112.50  165.00  215.46   \n",
      "Open     85052.0  190.831728  81.187373 -477.50  135.00  190.00  240.00   \n",
      "Special  15580.0  171.692275  61.638156 -194.59  122.47  174.63  210.92   \n",
      "Teen     17041.0  156.713483  59.763002 -307.08  115.00  155.00  192.50   \n",
      "Youth     4272.0  134.949572  53.807764 -215.00   97.50  130.00  170.00   \n",
      "\n",
      "            max  \n",
      "Level            \n",
      "Juniors  490.00  \n",
      "Masters  482.50  \n",
      "Open     571.53  \n",
      "Special  455.86  \n",
      "Teen     416.00  \n",
      "Youth    350.00  \n"
     ]
    }
   ],
   "source": [
    "#test for lifting div differences\n",
    "print(lifts.groupby('Division')['TotalKg'].describe())\n",
    "print(lifts.groupby('Level')['TotalKg'].describe())\n",
    "print(lifts.groupby('Level')['BestSquatKg'].describe())\n"
   ]
  },
  {
   "cell_type": "markdown",
   "id": "7fdb3b44-2328-4dda-bbcf-e40475a61fca",
   "metadata": {
    "slideshow": {
     "slide_type": "skip"
    },
    "tags": []
   },
   "source": [
    "Rule out bimodality due to a certian division. I see we have some negative lifts.  Lets drop our disqualified individuals from the dataframe."
   ]
  },
  {
   "cell_type": "code",
   "execution_count": 133,
   "id": "7bc40f14-1bc2-47bd-b3f2-fc534d6aa29c",
   "metadata": {
    "slideshow": {
     "slide_type": "skip"
    },
    "tags": []
   },
   "outputs": [],
   "source": [
    "lifts = lifts[lifts['Place'] != 'DQ']"
   ]
  },
  {
   "cell_type": "code",
   "execution_count": 134,
   "id": "658c6aa5-536c-4894-836c-b2ba2e57604e",
   "metadata": {
    "slideshow": {
     "slide_type": "skip"
    },
    "tags": []
   },
   "outputs": [
    {
     "data": {
      "image/png": "[encoded data removed]",
      "text/plain": [
       "<Figure size 640x480 with 1 Axes>"
      ]
     },
     "metadata": {},
     "output_type": "display_data"
    }
   ],
   "source": [
    "sns.histplot(data=lifts, x='TotalKg', hue='Sex')\n",
    "plt.xlim(left=0)\n",
    "plt.show()"
   ]
  },
  {
   "cell_type": "markdown",
   "id": "771090be-6fc3-4077-8570-91f2b80c780d",
   "metadata": {
    "slideshow": {
     "slide_type": "skip"
    },
    "tags": []
   },
   "source": [
    "Still bi-modal."
   ]
  },
  {
   "cell_type": "code",
   "execution_count": null,
   "id": "d1d70fc3-944e-46c7-b96b-e048505626ea",
   "metadata": {
    "jupyter": {
     "source_hidden": true
    },
    "slideshow": {
     "slide_type": "skip"
    },
    "tags": []
   },
   "outputs": [],
   "source": [
    "sns.pairplot(lifts[['Age','BodyweightKg', 'BestSquatKg', 'BestBenchKg', 'BestDeadliftKg', 'TotalKg', 'Sex']], hue='Sex')\n",
    "plt.show()"
   ]
  },
  {
   "cell_type": "markdown",
   "id": "cfbd382a-b7ae-4258-82a3-2ced8f2ae05f",
   "metadata": {
    "slideshow": {
     "slide_type": "skip"
    },
    "tags": []
   },
   "source": [
    "Still bimodal, but what is interesting is the negative value outliers still showing and the linear trend on the outsides of some scatter plots."
   ]
  },
  {
   "cell_type": "code",
   "execution_count": null,
   "id": "7ce7f35e-cd1a-4722-8918-44c0fc3701ff",
   "metadata": {
    "jupyter": {
     "source_hidden": true
    },
    "slideshow": {
     "slide_type": "skip"
    },
    "tags": []
   },
   "outputs": [],
   "source": [
    "corr_matrix = lifts[['Age', 'BodyweightKg', 'BestSquatKg', 'BestBenchKg', 'BestDeadliftKg', 'TotalKg', 'Wilks']].corr()\n",
    "sns.heatmap(corr_matrix, annot=True, cmap='coolwarm')\n",
    "plt.show()"
   ]
  },
  {
   "cell_type": "markdown",
   "id": "905cca06-b0db-4e78-91dd-7ef29f045f4d",
   "metadata": {
    "slideshow": {
     "slide_type": "skip"
    },
    "tags": []
   },
   "source": [
    "Missing a lift impacts total, begin analysis of complete lifts."
   ]
  },
  {
   "cell_type": "code",
   "execution_count": null,
   "id": "b1194385-4f50-427d-97a6-85a60b0985cb",
   "metadata": {
    "jupyter": {
     "source_hidden": true
    },
    "slideshow": {
     "slide_type": "skip"
    },
    "tags": []
   },
   "outputs": [],
   "source": [
    "complete_lifts = lifts.copy()\n",
    "complete_lifts[['BestBenchKg', 'BestSquatKg', 'BestDeadliftKg']] = complete_lifts[['BestBenchKg', 'BestSquatKg', 'BestDeadliftKg']].applymap(lambda x: np.nan if x < 0 else x)\n",
    "complete_lifts = complete_lifts.dropna(subset=['BestSquatKg', 'BestBenchKg', 'BestDeadliftKg'])"
   ]
  },
  {
   "cell_type": "code",
   "execution_count": null,
   "id": "4357cca5-dcca-43e7-8395-ef5b3888e3b8",
   "metadata": {
    "jupyter": {
     "source_hidden": true
    },
    "slideshow": {
     "slide_type": "skip"
    },
    "tags": []
   },
   "outputs": [],
   "source": [
    "complete_lifts.to_csv('lifts_data.csv', index=False)"
   ]
  },
  {
   "cell_type": "code",
   "execution_count": null,
   "id": "6936579f-e106-47e5-a21d-bb03ef6d77c8",
   "metadata": {
    "jupyter": {
     "source_hidden": true
    },
    "slideshow": {
     "slide_type": "skip"
    },
    "tags": []
   },
   "outputs": [],
   "source": [
    "print(lifts['Sex'].value_counts())\n",
    "print(lifts['Equipment'].value_counts())\n",
    "print(lifts['Division'].value_counts())\n",
    "print(lifts['WeightClassKg'].value_counts())"
   ]
  },
  {
   "cell_type": "markdown",
   "id": "8e9ef466-a779-4354-9103-952faeda94ac",
   "metadata": {
    "slideshow": {
     "slide_type": "slide"
    },
    "tags": []
   },
   "source": [
    "<div style=\"background-color: #f7f7f7; border: 1px solid #999; padding: 10px; font-size: 16px; color: #333; text-align: left;\">\n",
    "  <div style=\"display: flex; align-items: center; justify-content: center; margin-bottom: 10px;\">\n",
    "    <img src=\"PowerliftingLogo.png\" alt=\"Powerlifting Logo\" style=\"width: 300px;\"/>\n",
    "  </div>\n",
    "  <h2 style=\"font-size: 20px; margin-bottom: 10px; text-transform: uppercase; color: #555;\">Bimodality Re-check</h2>\n",
    "  <ul style=\"margin-top: 10px; margin-left: 0; padding-left: 20px;\">\n",
    "    <li style=\"margin-bottom: 5px;\">Before</li>\n",
    "    <li style=\"margin-bottom: 5px;\">After</li>\n",
    "  </ul>\n",
    "</div>"
   ]
  },
  {
   "cell_type": "markdown",
   "id": "28debada-dc27-4f2b-8842-d9916e4e8f05",
   "metadata": {
    "slideshow": {
     "slide_type": "slide"
    },
    "tags": []
   },
   "source": [
    "<div style=\"background-color: #f7f7f7; border: 1px solid #999; padding: 10px; font-size: 16px; color: #333; text-align: left;\">\n",
    "  <h2 style=\"font-size: 20px; margin-bottom: 10px; text-transform: uppercase; color: #555;\">Before</h2>\n",
    "</div>"
   ]
  },
  {
   "cell_type": "code",
   "execution_count": null,
   "id": "a91e2be8-b235-4970-addc-ad03affe2f5e",
   "metadata": {
    "slideshow": {
     "slide_type": "fragment"
    },
    "tags": []
   },
   "outputs": [],
   "source": [
    "g = sns.FacetGrid(lifts, col='Sex', hue='Level')\n",
    "g.map(sns.histplot, 'TotalKg')\n",
    "g.set(xlim=(0, None))\n",
    "g.add_legend()"
   ]
  },
  {
   "cell_type": "markdown",
   "id": "957955f1-4b07-4845-b813-1c4cc9fc6416",
   "metadata": {
    "slideshow": {
     "slide_type": "slide"
    },
    "tags": []
   },
   "source": [
    "<div style=\"background-color: #f7f7f7; border: 1px solid #999; padding: 10px; font-size: 16px; color: #333; text-align: left;\">\n",
    "  <h2 style=\"font-size: 20px; margin-bottom: 10px; text-transform: uppercase; color: #555;\">After</h2>\n",
    "</div>"
   ]
  },
  {
   "cell_type": "code",
   "execution_count": null,
   "id": "03deed09-33c0-4384-b9c2-d3ecfbb32445",
   "metadata": {
    "slideshow": {
     "slide_type": "fragment"
    },
    "tags": []
   },
   "outputs": [],
   "source": [
    "g = sns.FacetGrid(complete_lifts, col='Sex', hue='Level')\n",
    "g.map(sns.histplot, 'TotalKg')\n",
    "g.set(xlim=(0, None))\n",
    "g.add_legend()"
   ]
  },
  {
   "cell_type": "markdown",
   "id": "578bd2aa-6e65-4569-8606-4ef5daaf9d21",
   "metadata": {
    "slideshow": {
     "slide_type": "skip"
    },
    "tags": []
   },
   "source": [
    "BINGO, The bimodality is gone.  Lets find something to test."
   ]
  },
  {
   "cell_type": "markdown",
   "id": "7390d4ea-fe40-409d-8158-7f45025bd91a",
   "metadata": {
    "slideshow": {
     "slide_type": "slide"
    },
    "tags": []
   },
   "source": [
    "<div style=\"background-color: #f7f7f7; border: 1px solid #999; padding: 10px; font-size: 16px; color: #333; text-align: left;\">\n",
    "  <div style=\"display: flex; align-items: center; justify-content: center; margin-bottom: 10px;\">\n",
    "    <img src=\"PowerliftingLogo.png\" alt=\"Powerlifting Logo\" style=\"width: 300px;\"/>\n",
    "  </div>\n",
    "  <h2 style=\"font-size: 20px; margin-bottom: 10px; text-transform: uppercase; color: #555;\">Clean Data Exploration</h2>\n",
    "  <ul style=\"margin-top: 10px; margin-left: 0; padding-left: 20px;\">\n",
    "    <li style=\"margin-bottom: 5px;\">Find Topics for Further Analysis</li>\n",
    "    <ul>\n",
    "      <li>Idnetify Significant Categoric Variables</li>\n",
    "      <li>Identify Correlated Continious Variables</li>\n",
    "      <li>Descriptive Statistics of Continious Vars Grouped by Categoric Vars</li>\n",
    "    </ul>\n",
    "  </ul>\n",
    "</div>"
   ]
  },
  {
   "cell_type": "markdown",
   "id": "69b54585-0321-468c-a096-1ed45228df57",
   "metadata": {
    "slideshow": {
     "slide_type": "slide"
    },
    "tags": []
   },
   "source": [
    "<div style=\"background-color: #f7f7f7; border: 1px solid #999; padding: 10px; font-size: 16px; color: #333; text-align: left;\">\n",
    "  <div style=\"display: flex; align-items: center; justify-content: center; margin-bottom: 10px;\">\n",
    "    <img src=\"PowerliftingLogo.png\" alt=\"Powerlifting Logo\" style=\"width: 300px;\"/>\n",
    "  </div>\n",
    "  <h2 style=\"font-size: 20px; margin-bottom: 10px; text-transform: uppercase; color: #555;\">Idnetify Significant Categoric Variables</h2>\n",
    "  <ul style=\"margin-top: 10px; margin-left: 0; padding-left: 20px;\">\n",
    "    <li style=\"margin-bottom: 5px;\">Chi Squared Analysis</li>\n",
    "    <ul>\n",
    "      <li>Create List of Categoric Variables</li>\n",
    "      <li>Test Each Variable's In a Loop</li>\n",
    "    </ul>\n",
    "  </ul>\n",
    "</div>"
   ]
  },
  {
   "cell_type": "code",
   "execution_count": null,
   "id": "39745f7c-7f30-4567-896b-0123c040f712",
   "metadata": {
    "slideshow": {
     "slide_type": "slide"
    },
    "tags": []
   },
   "outputs": [],
   "source": [
    "categorical_vars = ['Sex', 'Equipment', 'Level']\n",
    "target_var1 = 'TotalKg'"
   ]
  },
  {
   "cell_type": "code",
   "execution_count": null,
   "id": "29ffb499-c2f3-4ae4-943b-43fbae90e10d",
   "metadata": {
    "slideshow": {
     "slide_type": "fragment"
    },
    "tags": []
   },
   "outputs": [],
   "source": [
    "for var in categorical_vars:\n",
    "    ct = pd.crosstab(lifts[var], lifts[target_var1])\n",
    "    chi2, p, dof, expected = stats.chi2_contingency(ct)\n",
    "    print(f\"{var}: chi-square = {chi2:.2f}, p-value = {p:.4f}\")"
   ]
  },
  {
   "cell_type": "markdown",
   "id": "8b4955ad-be4a-486c-ad82-903fa775ac64",
   "metadata": {
    "slideshow": {
     "slide_type": "slide"
    },
    "tags": []
   },
   "source": [
    "<div style=\"background-color: #f7f7f7; border: 1px solid #999; padding: 10px; font-size: 16px; color: #333; text-align: left;\">\n",
    "  <div style=\"display: flex; align-items: center; justify-content: center; margin-bottom: 10px;\">\n",
    "    <img src=\"PowerliftingLogo.png\" alt=\"Powerlifting Logo\" style=\"width: 300px;\"/>\n",
    "  </div>\n",
    "  <h2 style=\"font-size: 20px; margin-bottom: 10px; text-transform: uppercase; color: #555;\">Idnetify Significant Categoric Variables</h2>\n",
    "  <ul style=\"margin-top: 10px; margin-left: 0; padding-left: 20px;\">\n",
    "    <li style=\"margin-bottom: 5px;\">Notes:</li>\n",
    "    <ul>\n",
    "      <li>All Categoric variables are significantly correlated to Total Kg</li>\n",
    "      <li><b>Duh!</b> This is exaclty why they have competitive categories.</li>\n",
    "      <li>Equipment is interesting; unlike other categoric variables, it's use is optional</li>\n",
    "    </ul>\n",
    "  </ul>\n",
    "</div>"
   ]
  },
  {
   "cell_type": "markdown",
   "id": "8dfa53ed-e1c9-4a15-aab8-54469590ac04",
   "metadata": {
    "slideshow": {
     "slide_type": "slide"
    },
    "tags": []
   },
   "source": [
    "<div style=\"background-color: #f7f7f7; border: 1px solid #999; padding: 10px; font-size: 16px; color: #333; text-align: left;\">\n",
    "  <div style=\"display: flex; align-items: center; justify-content: center; margin-bottom: 10px;\">\n",
    "    <img src=\"PowerliftingLogo.png\" alt=\"Powerlifting Logo\" style=\"width: 300px;\"/>\n",
    "  </div>\n",
    "  <h2 style=\"font-size: 20px; margin-bottom: 10px; text-transform: uppercase; color: #555;\">Identify Correlated Continious Variables</h2>\n",
    "  <ul style=\"margin-top: 10px; margin-left: 0; padding-left: 20px;\">\n",
    "    <li style=\"margin-bottom: 5px;\">Correlation Matrix</li>\n",
    "  </ul>\n",
    "</div>"
   ]
  },
  {
   "cell_type": "code",
   "execution_count": null,
   "id": "54bc2855-466b-4352-8196-242194c352d2",
   "metadata": {
    "slideshow": {
     "slide_type": "slide"
    },
    "tags": []
   },
   "outputs": [],
   "source": [
    "corr_matrix = complete_lifts[['MeetID','Age', 'BodyweightKg', 'BestSquatKg', 'BestBenchKg', 'BestDeadliftKg', 'TotalKg']].corr()\n",
    "sns.heatmap(corr_matrix, annot=True, cmap='coolwarm')\n",
    "plt.show()"
   ]
  },
  {
   "cell_type": "markdown",
   "id": "cfab49d9-6887-406a-9131-e6d515d0daff",
   "metadata": {
    "slideshow": {
     "slide_type": "slide"
    },
    "tags": []
   },
   "source": [
    "<div style=\"background-color: #f7f7f7; border: 1px solid #999; padding: 10px; font-size: 16px; color: #333; text-align: left;\">\n",
    "  <div style=\"display: flex; align-items: center; justify-content: center; margin-bottom: 10px;\">\n",
    "    <img src=\"PowerliftingLogo.png\" alt=\"Powerlifting Logo\" style=\"width: 300px;\"/>\n",
    "  </div>\n",
    "  <h2 style=\"font-size: 20px; margin-bottom: 10px; text-transform: uppercase; color: #555;\">Identify Correlated Continious Variables</h2>\n",
    "  <ul style=\"margin-top: 10px; margin-left: 0; padding-left: 20px;\">\n",
    "    <li style=\"margin-bottom: 5px;\">Correlation Matrix</li>\n",
    "    <ul>\n",
    "      <li><b>Duh</b> the individual lifts correlate heavily with Total Kg.</li>\n",
    "      <li>Body Weight is strongly related to the amount competitors can lift.</li>\n",
    "      <li>I thought Meet Id would have a positive correlation with Total as people break thier PR.</li>\n",
    "      <li>Meet Id doesn't even correlate positively with age.  Do people not get older?Descriptive Statistics of Continious Vars Grouped by Categoric Vars</li>\n",
    "    </ul>\n",
    "  </ul>\n",
    "</div>"
   ]
  },
  {
   "cell_type": "markdown",
   "id": "eecdee0e-f065-4fc3-a201-1c087c86422e",
   "metadata": {
    "slideshow": {
     "slide_type": "slide"
    },
    "tags": []
   },
   "source": [
    "<div style=\"background-color: #f7f7f7; border: 1px solid #999; padding: 10px; font-size: 16px; color: #333; text-align: left;\">\n",
    "  <div style=\"display: flex; align-items: center; justify-content: center; margin-bottom: 10px;\">\n",
    "    <img src=\"PowerliftingLogo.png\" alt=\"Powerlifting Logo\" style=\"width: 300px;\"/>\n",
    "  </div>\n",
    "  <h2 style=\"font-size: 20px; margin-bottom: 10px; text-transform: uppercase; color: #555;\">Descriptive Statistics of Continious Vars Grouped by Categoric Vars</h2>\n",
    "  <ul style=\"margin-top: 10px; margin-left: 0; padding-left: 20px;\">\n",
    "    <li style=\"margin-bottom: 5px;\">For Satisfying Assignment Criteria</li>\n",
    "    <ul>\n",
    "      <li>Group by Sex and Division</li>\n",
    "      <li>Group by Equpment</li>\n",
    "    </ul>\n",
    "  </ul>\n",
    "</div>"
   ]
  },
  {
   "cell_type": "markdown",
   "id": "4c0000d3-c0cf-4829-8578-8e0eb77d0e29",
   "metadata": {
    "slideshow": {
     "slide_type": "slide"
    },
    "tags": []
   },
   "source": [
    "<div style=\"background-color: #f7f7f7; border: 1px solid #999; padding: 10px; font-size: 16px; color: #333; text-align: left;\">\n",
    "  <h2 style=\"font-size: 20px; margin-bottom: 10px; text-transform: uppercase; color: #555;\">Group by Equipment and Sex</h2>\n",
    "</div>"
   ]
  },
  {
   "cell_type": "code",
   "execution_count": null,
   "id": "36808a1e-bb0e-4b28-bd9d-5a3433c1063f",
   "metadata": {
    "scrolled": true,
    "slideshow": {
     "slide_type": "fragment"
    },
    "tags": []
   },
   "outputs": [],
   "source": [
    "print(complete_lifts.groupby(['Equipment', 'Sex'])['TotalKg'].describe())"
   ]
  },
  {
   "cell_type": "markdown",
   "id": "d50a9ec1-fb9d-47d6-8393-53891d328afb",
   "metadata": {
    "slideshow": {
     "slide_type": "slide"
    },
    "tags": []
   },
   "source": [
    "<div style=\"background-color: #f7f7f7; border: 1px solid #999; padding: 10px; font-size: 16px; color: #333; text-align: left;\">\n",
    "  <h2 style=\"font-size: 20px; margin-bottom: 10px; text-transform: uppercase; color: #555;\">Group by Division and Sex</h2>\n",
    "</div>"
   ]
  },
  {
   "cell_type": "code",
   "execution_count": null,
   "id": "35867c9b-cabc-42d3-a006-f43fd10b2ce9",
   "metadata": {
    "scrolled": true,
    "slideshow": {
     "slide_type": "fragment"
    },
    "tags": []
   },
   "outputs": [],
   "source": [
    "print(complete_lifts.groupby(['Level', 'Sex'])['TotalKg'].describe())"
   ]
  },
  {
   "cell_type": "markdown",
   "id": "f393d140-4da5-4a52-b836-00daf0ad5cf3",
   "metadata": {
    "slideshow": {
     "slide_type": "slide"
    },
    "tags": []
   },
   "source": [
    "<div style=\"background-color: #f7f7f7; border: 1px solid #999; padding: 10px; font-size: 16px; color: #333; text-align: left;\">\n",
    "  <div style=\"display: flex; align-items: center; justify-content: center; margin-bottom: 10px;\">\n",
    "    <img src=\"PowerliftingLogo.png\" alt=\"Powerlifting Logo\" style=\"width: 300px;\"/>\n",
    "  </div>\n",
    "  <h2 style=\"font-size: 20px; margin-bottom: 10px; text-transform: uppercase; color: #555;\">Clean Data Analysis</h2>\n",
    "  <ul style=\"margin-top: 10px; margin-left: 0; padding-left: 20px;\">\n",
    "    <li style=\"margin-bottom: 5px;\">Topics Found for Analysis</li>\n",
    "    <ul>\n",
    "      <li>Equipment's Impact on Lifts</li>\n",
    "      <li>Bodyweight Strong Correlation of Total Weight</li>\n",
    "    </ul>\n",
    "  </ul>\n",
    "</div>"
   ]
  },
  {
   "cell_type": "markdown",
   "id": "00860986-d96a-4cb5-af77-f816551061cd",
   "metadata": {
    "slideshow": {
     "slide_type": "slide"
    },
    "tags": []
   },
   "source": [
    "<div style=\"background-color: #f7f7f7; border: 1px solid #999; padding: 10px; font-size: 16px; color: #333; text-align: left;\">\n",
    "  <div style=\"display: flex; align-items: center; justify-content: center; margin-bottom: 10px;\">\n",
    "    <img src=\"PowerliftingLogo.png\" alt=\"Powerlifting Logo\" style=\"width: 300px;\"/>\n",
    "  </div>\n",
    "  <h2 style=\"font-size: 20px; margin-bottom: 10px; text-transform: uppercase; color: #555;\">Equpiment's Impact on Liftys</h2>\n",
    "  <ul style=\"margin-top: 10px; margin-left: 0; padding-left: 20px;\">\n",
    "    <li style=\"margin-bottom: 5px;\">Exploration</li>\n",
    "    <ul>\n",
    "      <li>Histogram of Total Kg Distributions by Equipment</li>\n",
    "      <li>Pairplot of Equipment by Lift</li>\n",
    "    </ul>\n",
    "  </ul>\n",
    "</div>"
   ]
  },
  {
   "cell_type": "markdown",
   "id": "b9bbd4ce-1522-4fc0-9d65-76fdac272a3d",
   "metadata": {
    "slideshow": {
     "slide_type": "slide"
    },
    "tags": []
   },
   "source": [
    "<div style=\"background-color: #f7f7f7; border: 1px solid #999; padding: 10px; font-size: 16px; color: #333; text-align: left;\">\n",
    "  <h2 style=\"font-size: 20px; margin-bottom: 10px; text-transform: uppercase; color: #555;\">Histogram of Total Kg Distributions by Equipment</h2>\n",
    "</div>"
   ]
  },
  {
   "cell_type": "code",
   "execution_count": null,
   "id": "045f3b72-e481-4543-8644-71ae97c6891a",
   "metadata": {
    "slideshow": {
     "slide_type": "fragment"
    },
    "tags": []
   },
   "outputs": [],
   "source": [
    "g = sns.FacetGrid(complete_lifts, col='Sex', hue='Equipment')\n",
    "g.map(sns.histplot, 'TotalKg')\n",
    "g.set(xlim=(0, None))\n",
    "g.add_legend()"
   ]
  },
  {
   "cell_type": "markdown",
   "id": "46c7ab7e-2aa1-431c-b350-7896e2426d55",
   "metadata": {
    "slideshow": {
     "slide_type": "skip"
    },
    "tags": []
   },
   "source": [
    "Single ply use in males seems to have a slightly lower distribution than raw.  wondering if that is equipment that buffers an injury or something.  multi ply seems to give an advantage in both males and females but is not widely used."
   ]
  },
  {
   "cell_type": "markdown",
   "id": "2f0a8329-2d4a-42d0-b4ed-9b21de4b948c",
   "metadata": {
    "slideshow": {
     "slide_type": "slide"
    },
    "tags": []
   },
   "source": [
    "<div style=\"background-color: #f7f7f7; border: 1px solid #999; padding: 10px; font-size: 16px; color: #333; text-align: left;\">\n",
    "  <h2 style=\"font-size: 20px; margin-bottom: 10px; text-transform: uppercase; color: #555;\">Pairplot of Equipment By Lift</h2>\n",
    "</div>"
   ]
  },
  {
   "cell_type": "code",
   "execution_count": null,
   "id": "364ab609-044d-426c-89d6-130b7ff0c489",
   "metadata": {
    "scrolled": true,
    "slideshow": {
     "slide_type": "fragment"
    },
    "tags": []
   },
   "outputs": [],
   "source": [
    "sns.pairplot(complete_lifts[['BestSquatKg', 'BestBenchKg', 'BestDeadliftKg', 'TotalKg', 'Equipment']], hue='Equipment')\n",
    "plt.show()"
   ]
  },
  {
   "cell_type": "markdown",
   "id": "8f0d9463-4b88-46d2-b353-21224c80470a",
   "metadata": {
    "slideshow": {
     "slide_type": "slide"
    },
    "tags": []
   },
   "source": [
    "<div style=\"background-color: #f7f7f7; border: 1px solid #999; padding: 10px; font-size: 16px; color: #333; text-align: left;\">\n",
    "  <div style=\"display: flex; align-items: center; justify-content: center; margin-bottom: 10px;\">\n",
    "    <img src=\"PowerliftingLogo.png\" alt=\"Powerlifting Logo\" style=\"width: 300px;\"/>\n",
    "  </div>\n",
    "  <h2 style=\"font-size: 20px; margin-bottom: 10px; text-transform: uppercase; color: #555;\">Equpiment's Impact on Lifts</h2>\n",
    "  <ul style=\"margin-top: 10px; margin-left: 0; padding-left: 20px;\">\n",
    "    <li style=\"margin-bottom: 5px;\">Notes:</li>\n",
    "    <ul>\n",
    "      <li>Multi-ply is used infrequently but skews higher.</li>\n",
    "      <li>Multi-ply is especially helpful in deadlifts.</li>\n",
    "    </ul>\n",
    "  </ul>\n",
    "</div>"
   ]
  },
  {
   "cell_type": "markdown",
   "id": "883b9f12-57a1-4c14-9c10-3908793b705d",
   "metadata": {
    "slideshow": {
     "slide_type": "slide"
    },
    "tags": []
   },
   "source": [
    "<div style=\"background-color: #f7f7f7; border: 1px solid #999; padding: 10px; font-size: 16px; color: #333; text-align: left;\">\n",
    "  <h2 style=\"font-size: 20px; margin-bottom: 10px; text-transform: uppercase; color: #555;\">Bodyweight Strong Correlation of Total Weight</h2>\n",
    "  <ul style=\"margin-top: 10px; margin-left: 0; padding-left: 20px;\">\n",
    "    <li style=\"margin-bottom: 5px;\">Visualize Total Kg by Weight Class</li>\n",
    "  </ul>\n",
    "    <div style=\"display: flex; align-items: center; justify-content: center; margin-bottom: 10px;\">\n",
    "    <img src=\"data:image/png;base64,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\" alt=\"R Bar Chart\" style=\"width: 500px;\"/>\n",
    "  </div>\n",
    "</div>"
   ]
  },
  {
   "cell_type": "markdown",
   "id": "1f196f3e-2ef6-42a1-bb07-3212270cc918",
   "metadata": {
    "slideshow": {
     "slide_type": "slide"
    },
    "tags": []
   },
   "source": [
    "<div style=\"background-color: #f7f7f7; border: 1px solid #999; padding: 10px; font-size: 16px; color: #333; text-align: left;\">\n",
    "  <div style=\"display: flex; align-items: center; justify-content: center; margin-bottom: 10px;\">\n",
    "    <img src=\"PowerliftingLogo.png\" alt=\"Powerlifting Logo\" style=\"width: 300px;\"/>\n",
    "  </div>\n",
    "  <h2 style=\"font-size: 20px; margin-bottom: 10px; text-transform: uppercase; color: #555;\">Questions?</h2>\n",
    "  <ul style=\"margin-top: 10px; margin-left: 0; padding-left: 20px;\">\n",
    "    <li style=\"margin-bottom: 5px;\">Thank you</li>\n",
    "  </ul>\n",
    "     <div style=\"display: flex; align-items: center; justify-content: center; margin-bottom: 10px;\">\n",
    "    <img src=\"https://cdn.dribbble.com/users/690037/screenshots/16636565/media/cc45a8a4fed78aaf3060c767ecd6e19d.jpg?compress=1&resize=800x600&vertical=top\" alt=\"Weight lifter guy\" style=\"width: 300px;\"/>\n",
    "</div>"
   ]
  },
  {
   "cell_type": "code",
   "execution_count": null,
   "id": "baffb3d1-2943-4123-aa3f-abec9382b6e2",
   "metadata": {
    "jupyter": {
     "source_hidden": true
    },
    "slideshow": {
     "slide_type": "skip"
    },
    "tags": []
   },
   "outputs": [],
   "source": [
    "print(complete_lifts.describe())"
   ]
  },
  {
   "cell_type": "code",
   "execution_count": null,
   "id": "25fc20ea-6d87-422c-be41-fcb63bfe1afc",
   "metadata": {
    "jupyter": {
     "source_hidden": true
    },
    "slideshow": {
     "slide_type": "skip"
    },
    "tags": []
   },
   "outputs": [],
   "source": [
    "print(complete_lifts.groupby(['Equipment', 'Sex'])['TotalKg'].describe())\n",
    "print(complete_lifts.groupby(['Equipment', 'Sex'])['BestBenchKg'].describe())\n",
    "print(complete_lifts.groupby(['Equipment', 'Sex'])['BestSquatKg'].describe())\n",
    "print(complete_lifts.groupby(['Equipment', 'Sex'])['BestDeadliftKg'].describe())"
   ]
  },
  {
   "cell_type": "code",
   "execution_count": null,
   "id": "6685a4ce-e758-4d5a-b8b6-3978ef195f74",
   "metadata": {
    "jupyter": {
     "source_hidden": true
    },
    "slideshow": {
     "slide_type": "skip"
    },
    "tags": []
   },
   "outputs": [],
   "source": [
    "print(complete_lifts.groupby(['Level', 'Sex'])['TotalKg'].describe())\n",
    "print(complete_lifts.groupby(['Level', 'Sex'])['BestBenchKg'].describe())\n",
    "print(complete_lifts.groupby(['Level', 'Sex'])['BestSquatKg'].describe())\n",
    "print(complete_lifts.groupby(['Level', 'Sex'])['BestDeadliftKg'].describe())"
   ]
  },
  {
   "cell_type": "code",
   "execution_count": null,
   "id": "fa7d3c9c-9eb0-42d9-9de2-b7a18d3b483a",
   "metadata": {
    "jupyter": {
     "source_hidden": true
    },
    "slideshow": {
     "slide_type": "skip"
    },
    "tags": []
   },
   "outputs": [],
   "source": [
    "eda_subset = complete_lifts[complete_lifts['Sex'].str.lower() == 'm']"
   ]
  },
  {
   "cell_type": "code",
   "execution_count": null,
   "id": "3ebccbe0-3c75-4886-b14f-302b610d9efd",
   "metadata": {
    "jupyter": {
     "source_hidden": true
    },
    "slideshow": {
     "slide_type": "skip"
    },
    "tags": []
   },
   "outputs": [],
   "source": [
    "print(complete_lifts.groupby(['Equipment','Level'])['TotalKg'].describe())\n",
    "print(complete_lifts.groupby(['Equipment','Level'])['BestBenchKg'].describe())\n",
    "print(complete_lifts.groupby(['Equipment','Level'])['BestSquatKg'].describe())\n",
    "print(complete_lifts.groupby(['Equipment','Level'])['BestDeadliftKg'].describe())"
   ]
  },
  {
   "cell_type": "code",
   "execution_count": null,
   "id": "5e168818-c758-43ad-9b18-3749f89d5f7a",
   "metadata": {
    "jupyter": {
     "source_hidden": true
    },
    "slideshow": {
     "slide_type": "skip"
    },
    "tags": []
   },
   "outputs": [],
   "source": [
    "equipment_dummies = pd.get_dummies(complete_lifts['Equipment'], prefix='Eq')\n",
    "level_dummies = pd.get_dummies(complete_lifts['Level'], prefix='Lvl')\n",
    "sex_dummies = pd.get_dummies(complete_lifts['Sex'], prefix='Sx')\n",
    "complete_lifts_rg = pd.concat([complete_lifts, equipment_dummies, level_dummies, sex_dummies], axis=1)"
   ]
  },
  {
   "cell_type": "code",
   "execution_count": null,
   "id": "ad85f845-a951-49f4-8a5c-8ea531f1a610",
   "metadata": {
    "jupyter": {
     "source_hidden": true
    },
    "slideshow": {
     "slide_type": "skip"
    },
    "tags": []
   },
   "outputs": [],
   "source": [
    "print(complete_lifts_rg.info())"
   ]
  },
  {
   "cell_type": "code",
   "execution_count": null,
   "id": "d67619f9-ce53-4fe4-b14a-e6c955bd36fd",
   "metadata": {
    "jupyter": {
     "source_hidden": true
    },
    "tags": []
   },
   "outputs": [],
   "source": [
    "print(complete_lifts.info())"
   ]
  },
  {
   "cell_type": "code",
   "execution_count": null,
   "id": "725f95de-edf4-489c-b326-fff810b5903b",
   "metadata": {
    "jupyter": {
     "source_hidden": true
    },
    "slideshow": {
     "slide_type": "skip"
    },
    "tags": []
   },
   "outputs": [],
   "source": [
    "corr_matrix = complete_lifts[['Age', 'BodyweightKg', 'BestSquatKg', 'BestBenchKg', 'BestDeadliftKg', 'TotalKg', 'Wilks']].corr()\n",
    "sns.heatmap(corr_matrix, annot=True, cmap='coolwarm')\n",
    "plt.show()"
   ]
  },
  {
   "cell_type": "markdown",
   "id": "9d0a1a63-ed50-456f-9bba-546d5defc986",
   "metadata": {
    "slideshow": {
     "slide_type": "skip"
    },
    "tags": []
   },
   "source": [
    "cd C:\\Users\\Dark\\Documents\\EDA_Final_Project\n",
    "jupyter-nbconvert Cleaning.ipynb --to slides --post serve\n"
   ]
  }
 ],
 "metadata": {
  "kernelspec": {
   "display_name": "Python 3 (ipykernel)",
   "language": "python",
   "name": "python3"
  },
  "language_info": {
   "codemirror_mode": {
    "name": "ipython",
    "version": 3
   },
   "file_extension": ".py",
   "mimetype": "text/x-python",
   "name": "python",
   "nbconvert_exporter": "python",
   "pygments_lexer": "ipython3",
   "version": "3.9.13"
  }
 },
 "nbformat": 4,
 "nbformat_minor": 5
}
